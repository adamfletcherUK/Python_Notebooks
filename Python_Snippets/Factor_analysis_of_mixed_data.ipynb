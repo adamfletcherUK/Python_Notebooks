{
 "cells": [
  {
   "cell_type": "code",
   "execution_count": null,
   "metadata": {},
   "outputs": [],
   "source": [
    "! pip install prince"
   ]
  },
  {
   "cell_type": "code",
   "execution_count": null,
   "metadata": {},
   "outputs": [],
   "source": [
    "import pandas as pd\n",
    "\n",
    "X = pd.DataFrame(\n",
    "    data=[\n",
    "         ['A', 'A', 'A', 2, 5, 7, 6, 3, 6, 7],\n",
    "         ['A', 'A', 'A', 4, 4, 4, 2, 4, 4, 3],\n",
    "         ['B', 'A', 'B', 5, 2, 1, 1, 7, 1, 1],\n",
    "         ['B', 'A', 'B', 7, 2, 1, 2, 2, 2, 2],\n",
    "         ['B', 'B', 'B', 3, 5, 6, 5, 2, 6, 6],\n",
    "         ['B', 'B', 'A', 3, 5, 4, 5, 1, 7, 5]\n",
    "     ],\n",
    "     columns=['E1 fruity', 'E1 woody', 'E1 coffee',\n",
    "              'E2 red fruit', 'E2 roasted', 'E2 vanillin', 'E2 woody',\n",
    "              'E3 fruity', 'E3 butter', 'E3 woody'],\n",
    "     index=['Wine {}'.format(i+1) for i in range(6)]\n",
    " )\n",
    "X['Oak type'] = [1, 2, 2, 2, 1, 1]"
   ]
  },
  {
   "cell_type": "code",
   "execution_count": null,
   "metadata": {},
   "outputs": [],
   "source": [
    "X"
   ]
  },
  {
   "cell_type": "code",
   "execution_count": null,
   "metadata": {},
   "outputs": [],
   "source": [
    "import prince\n",
    "famd = prince.FAMD(\n",
    "    n_components=2,\n",
    "    n_iter=3,\n",
    "    copy=True,\n",
    "    check_input=True,\n",
    "    engine='auto',\n",
    "    random_state=42\n",
    ")\n",
    "famd = famd.fit(X.drop('Oak type', axis='columns'))  # No need for 'Oak type'"
   ]
  },
  {
   "cell_type": "code",
   "execution_count": null,
   "metadata": {},
   "outputs": [],
   "source": [
    "famd.row_coordinates(X)"
   ]
  },
  {
   "cell_type": "code",
   "execution_count": null,
   "metadata": {},
   "outputs": [],
   "source": [
    "ax = famd.plot_row_coordinates(\n",
    "    X,\n",
    "    ax=None,\n",
    "    figsize=(6, 6),\n",
    "    x_component=0,\n",
    "    y_component=1,\n",
    "    labels=X.index,\n",
    "    color_labels=['Oak type {}'.format(t) for t in X['Oak type']],\n",
    "    ellipse_outline=False,\n",
    "    ellipse_fill=True,\n",
    "    show_points=True\n",
    ")"
   ]
  },
  {
   "cell_type": "code",
   "execution_count": null,
   "metadata": {},
   "outputs": [],
   "source": []
  }
 ],
 "metadata": {
  "language_info": {
   "name": "python",
   "pygments_lexer": "ipython3"
  }
 },
 "nbformat": 4,
 "nbformat_minor": 2
}
