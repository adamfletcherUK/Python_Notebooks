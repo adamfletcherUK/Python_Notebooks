{
 "cells": [
  {
   "cell_type": "markdown",
   "metadata": {},
   "source": [
    "# Machine Learning Classification"
   ]
  },
  {
   "cell_type": "markdown",
   "metadata": {},
   "source": [
    "The idea with this script is to itterate into a functional machine learning classification script which can:\n",
    "- **Apply multiple different ML models for classification**\n",
    "- Introduce a system to quickly change model hyperparameters\n",
    "- **Display the accuracy of the model** (and/or other metrics)\n",
    "- Display the feature importance for the models\n",
    "- Add a voting system (or multiple voting systems)\n",
    "- Make a Baysian models to auto adjust hyperparameters via gradient decent\n",
    "- Add in multiple crossvalidation stratedgies **(just k-fold atm)**\n",
    "    - statified k-fold\n",
    "\n",
    "**Bold == Done**"
   ]
  },
  {
   "cell_type": "code",
   "execution_count": 21,
   "metadata": {},
   "outputs": [],
   "source": [
    "import pandas\n",
    "import matplotlib.pyplot as plt\n",
    "from sklearn import model_selection\n",
    "from sklearn.linear_model import LogisticRegression\n",
    "from sklearn.tree import DecisionTreeClassifier\n",
    "from sklearn.neighbors import KNeighborsClassifier\n",
    "from sklearn.discriminant_analysis import LinearDiscriminantAnalysis\n",
    "from sklearn.naive_bayes import GaussianNB\n",
    "from sklearn.svm import SVC\n",
    "import xgboost as xgb\n",
    "from sklearn.ensemble import (RandomForestClassifier, AdaBoostClassifier, \n",
    "                              GradientBoostingClassifier, ExtraTreesClassifier)"
   ]
  },
  {
   "cell_type": "code",
   "execution_count": 5,
   "metadata": {},
   "outputs": [],
   "source": [
    "%store -r train_features\n",
    "%store -r train_labels\n",
    "%store -r valid_features\n",
    "%store -r valid_labels"
   ]
  },
  {
   "cell_type": "markdown",
   "metadata": {},
   "source": [
    "## Defining the Models\n",
    "\n",
    "TODO: Add in simple hyperparameter tuning!"
   ]
  },
  {
   "cell_type": "code",
   "execution_count": 24,
   "metadata": {},
   "outputs": [],
   "source": [
    "# prepare models\n",
    "models = []\n",
    "models.append(('LR', LogisticRegression(solver='lbfgs', max_iter=1000)))\n",
    "models.append(('LDA', LinearDiscriminantAnalysis()))\n",
    "models.append(('KNN', KNeighborsClassifier()))\n",
    "models.append(('CART', DecisionTreeClassifier()))\n",
    "models.append(('NB', GaussianNB()))\n",
    "models.append(('SVM', SVC(gamma='auto')))\n",
    "models.append(('XGB', xgb.XGBClassifier()))\n",
    "models.append(('RF', RandomForestClassifier(n_estimators=100)))\n",
    "models.append(('xTrees', ExtraTreesClassifier(n_estimators=100))) #this is exactly the same as above right now\n",
    "models.append(('ABC', AdaBoostClassifier()))\n",
    "models.append(('GBC', GradientBoostingClassifier()))\n",
    "models.append(('SVC', SVC(kernel = 'linear', C = 0.025)))\n",
    "##TODO: Add Neural Network Classification Models\n",
    "\n",
    "\n",
    "#some parameters have been defined to avoid error messages"
   ]
  },
  {
   "cell_type": "code",
   "execution_count": 26,
   "metadata": {},
   "outputs": [
    {
     "data": {
      "text/plain": [
       "LogisticRegression(C=1.0, class_weight=None, dual=False, fit_intercept=True,\n",
       "          intercept_scaling=1, max_iter=1000, multi_class='warn',\n",
       "          n_jobs=None, penalty='l2', random_state=None, solver='lbfgs',\n",
       "          tol=0.0001, verbose=0, warm_start=False)"
      ]
     },
     "execution_count": 26,
     "metadata": {},
     "output_type": "execute_result"
    }
   ],
   "source": [
    "LogisticRegression(solver='lbfgs', max_iter=1000)"
   ]
  },
  {
   "cell_type": "markdown",
   "metadata": {},
   "source": [
    "## Train the Models"
   ]
  },
  {
   "cell_type": "code",
   "execution_count": 25,
   "metadata": {},
   "outputs": [
    {
     "name": "stdout",
     "output_type": "stream",
     "text": [
      "LR: 0.813997 (0.044459)\n",
      "LDA: 0.802778 (0.051941)\n",
      "KNN: 0.771590 (0.066398)\n",
      "CART: 0.772824 (0.040352)\n",
      "NB: 0.784012 (0.042622)\n",
      "SVM: 0.808951 (0.060320)\n",
      "XGB: 0.832731 (0.049345)\n",
      "RF: 0.808997 (0.042548)\n",
      "xTrees: 0.810231 (0.036165)\n",
      "ABC: 0.821451 (0.048821)\n",
      "GBC: 0.826512 (0.049943)\n",
      "SVC: 0.812747 (0.047704)\n"
     ]
    },
    {
     "data": {
      "image/png": "[encoded data removed]",
      "text/plain": [
       "<Figure size 432x288 with 1 Axes>"
      ]
     },
     "metadata": {
      "needs_background": "light"
     },
     "output_type": "display_data"
    }
   ],
   "source": [
    "# evaluate each model in turn\n",
    "seed = 7\n",
    "results = []\n",
    "names = []\n",
    "scoring = 'accuracy'\n",
    "for name, model in models:\n",
    "\tkfold = model_selection.KFold(n_splits=10, random_state=seed)\n",
    "\tcv_results = model_selection.cross_val_score(model, train_features, train_labels, cv=kfold, scoring=scoring)\n",
    "\tresults.append(cv_results)\n",
    "\tnames.append(name)\n",
    "\tmsg = \"%s: %f (%f)\" % (name, cv_results.mean(), cv_results.std())\n",
    "\tprint(msg)\n",
    "    \n",
    "# boxplot algorithm comparison\n",
    "fig = plt.figure()\n",
    "fig.suptitle('Algorithm Comparison')\n",
    "ax = fig.add_subplot(111)\n",
    "plt.boxplot(results)\n",
    "ax.set_xticklabels(names)\n",
    "plt.show()"
   ]
  },
  {
   "cell_type": "code",
   "execution_count": null,
   "metadata": {},
   "outputs": [],
   "source": [
    "scoring = ['accuracy', 'precision', 'recall']\n",
    "accuracy_df = pd.DataFrame(index= scoring)\n",
    "importance_df = pd.DataFrame(index= train.columns)\n",
    "predictions = []\n",
    "CROSS_VALIDATION_NUMBER = 5\n",
    "##TODO: Add Random Seed Number\n",
    "\n",
    "for classifier in classifiers:\n",
    "    print('Currently Modelling Using', classifier[0])\n",
    "    model = classifier[1].fit(train_features, train_labels)\n",
    "    predictions.append(model.predict(valid_features))\n",
    "    errors = abs(predictions - valid_labels)\n",
    "    \n",
    "    if classifier[2] == 0:\n",
    "        importance_df[classifier[0]] = classifier[1].feature_importances_\n",
    "    if classifier[2] == 1:\n",
    "        importance_df[classifier[0]] = abs(classifier[1].coef_[0])\n",
    "        \n",
    "    for i in scoring:\n",
    "        xval_score = cross_val_score(model, valid_features, valid_labels, cv=CROSS_VALIDATION_NUMBER, scoring=i)\n",
    "        accuracy_df.loc[i, classifier[0]] = np.mean(xval_score)\n",
    "        \n",
    "    ## ADD a field to store predictions"
   ]
  }
 ],
 "metadata": {
  "kernelspec": {
   "display_name": "Python 3",
   "language": "python",
   "name": "python3"
  },
  "language_info": {
   "codemirror_mode": {
    "name": "ipython",
    "version": 3
   },
   "file_extension": ".py",
   "mimetype": "text/x-python",
   "name": "python",
   "nbconvert_exporter": "python",
   "pygments_lexer": "ipython3",
   "version": "3.7.1"
  }
 },
 "nbformat": 4,
 "nbformat_minor": 2
}
