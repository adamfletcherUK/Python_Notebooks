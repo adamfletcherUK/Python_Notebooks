{
 "cells": [
  {
   "cell_type": "code",
   "execution_count": null,
   "metadata": {},
   "outputs": [],
   "source": [
    "import numpy as np\n",
    "import tensorflow as tf\n",
    "from tensorflow import keras\n",
    "from tensorflow.keras import layers\n",
    "import matplotlib.pyplot as plt"
   ]
  },
  {
   "cell_type": "code",
   "execution_count": null,
   "metadata": {},
   "outputs": [],
   "source": [
    "print(tf.__version__)"
   ]
  },
  {
   "cell_type": "code",
   "execution_count": null,
   "metadata": {},
   "outputs": [],
   "source": [
    "x = np.linspace(-5,5,200)\n",
    "\n",
    "y_relu = tf.nn.relu(x)\n",
    "y_sigmoid = tf.nn.sigmoid(x)\n",
    "y_tanh = tf.nn.tanh(x)\n",
    "y_softplus = tf.nn.softplus(x)\n",
    "\n",
    "plt.figure(1, figsize=(8, 6))\n",
    "plt.subplot(221)\n",
    "plt.plot(x, y_relu, c='red', label='relu')\n",
    "plt.ylim((-1, 5))\n",
    "plt.legend(loc='best')\n",
    "\n",
    "plt.subplot(222)\n",
    "plt.plot(x, y_sigmoid, c='red', label='sigmoid')\n",
    "plt.ylim((-0.2, 1.2))\n",
    "plt.legend(loc='best')\n",
    "\n",
    "plt.subplot(223)\n",
    "plt.plot(x, y_tanh, c='red', label='tanh')\n",
    "plt.ylim((-1.2, 1.2))\n",
    "plt.legend(loc='best')\n",
    "\n",
    "plt.subplot(224)\n",
    "plt.plot(x, y_softplus, c='red', label='softplus')\n",
    "plt.ylim((-0.2, 6))\n",
    "plt.legend(loc='best')\n",
    "\n",
    "plt.show()"
   ]
  },
  {
   "cell_type": "code",
   "execution_count": null,
   "metadata": {},
   "outputs": [],
   "source": [
    "#tf.random.set_seed(1234)\n",
    "np.random.seed(1234)\n",
    "\n",
    "# data initialization\n",
    "# linspace creates a list with continous intervals of range -1 to 1\n",
    "# newaxis increases the dimension i.e. changes (1,100) to (100,1)\n",
    "x = np.linspace(-1,1,100)[:, np.newaxis]\n",
    "noise = np.random.normal(0,0.1,size=x.shape)\n",
    "y = np.power(x,2) + noise\n",
    "\n",
    "# plot the data\n",
    "plt.scatter(x,y)\n",
    "plt.show()"
   ]
  },
  {
   "cell_type": "code",
   "execution_count": null,
   "metadata": {},
   "outputs": [],
   "source": [
    "import tensorflow.compat.v1 as tf\n",
    "tf.disable_v2_behavior()\n",
    "\n",
    "tf_x = tf.placeholder(tf.float32, x.shape)\n",
    "tf_y = tf.placeholder(tf.float32, y.shape)\n",
    "\n",
    "# hidden layer\n",
    "l1 = tf.layers.dense(tf_x,1000,tf.nn.relu)\n",
    "# output layer\n",
    "#l2 = tf.layers.dense(l1,100,tf.nn.relu)\n",
    "output = tf.layers.dense(l1, 1)\n",
    "\n",
    "# compute cost\n",
    "loss = tf.losses.mean_squared_error(tf_y, output)\n",
    "optimizer = tf.train.GradientDescentOptimizer(learning_rate = 0.5)\n",
    "train_op = optimizer.minimize(loss)\n",
    "\n",
    "sess = tf.Session()\n",
    "sess.run(tf.global_variables_initializer())\n",
    "\n",
    "plt.ion()\n",
    "\n",
    "for step in range(100):\n",
    "    _, l, pred = sess.run([train_op, loss, output], {tf_x: x, tf_y: y})\n",
    "    if step%5 == 0:\n",
    "        plt.cla()\n",
    "        plt.scatter(x,y)\n",
    "        plt.plot(x, pred, 'r-', lw=5)\n",
    "        plt.text(0.5, 0, 'loss=%.4f' % l, fontdict = {'size': 20, 'color':'red'})\n",
    "        plt.pause(0.1)\n",
    "        \n",
    "plt.ioff()\n",
    "plt.show()"
   ]
  },
  {
   "cell_type": "code",
   "execution_count": null,
   "metadata": {},
   "outputs": [],
   "source": [
    "import pandas as pd\n",
    "ML_input_data = pd.read_csv('./ML_input_data.csv')"
   ]
  },
  {
   "cell_type": "code",
   "execution_count": null,
   "metadata": {},
   "outputs": [],
   "source": [
    "retail_950s = ML_input_data[(ML_input_data['Forecast Sales Model Number'] == \"950\") &\n",
    "                            (ML_input_data['Sales Channel'] == \"Retail\") &\n",
    "                            (ML_input_data['Global Market'] == \"AMN\")] \\\n",
    "                            .reset_index() \\\n",
    "                            [['Final Usage Hours', 'Relative Price Change']]\n",
    "\n",
    "#retail_950s = retail_950s.to_numpy()"
   ]
  },
  {
   "cell_type": "code",
   "execution_count": null,
   "metadata": {},
   "outputs": [],
   "source": [
    "from sklearn.preprocessing import MinMaxScaler\n",
    "\n",
    "\n",
    "\n",
    "def scale_variable(feature):\n",
    "    product = feature.values\n",
    "    product = product.reshape(-1,1)\n",
    "    product_scaler = MinMaxScaler(feature_range=(0,1))\n",
    "    product = product_scaler.fit_transform(product)\n",
    "    #product = product.reshape(-1,) # reshape it back\n",
    "    \n",
    "    return product, product_scaler\n",
    "\n",
    "x, x_scaler = scale_variable(retail_950s['Final Usage Hours'].head(1000))\n",
    "\n",
    "y, y_scaler = scale_variable(retail_950s['Relative Price Change'].head(1000))\n"
   ]
  },
  {
   "cell_type": "code",
   "execution_count": null,
   "metadata": {},
   "outputs": [],
   "source": [
    "x.shape"
   ]
  },
  {
   "cell_type": "code",
   "execution_count": null,
   "metadata": {},
   "outputs": [],
   "source": []
  },
  {
   "cell_type": "code",
   "execution_count": null,
   "metadata": {},
   "outputs": [],
   "source": []
  },
  {
   "cell_type": "code",
   "execution_count": null,
   "metadata": {},
   "outputs": [],
   "source": []
  },
  {
   "cell_type": "code",
   "execution_count": null,
   "metadata": {},
   "outputs": [],
   "source": []
  },
  {
   "cell_type": "markdown",
   "metadata": {},
   "source": [
    "# Attempted TensorFlow 2 Version"
   ]
  },
  {
   "cell_type": "code",
   "execution_count": null,
   "metadata": {},
   "outputs": [],
   "source": [
    "model = keras.Sequential([\n",
    "    keras.layers.Reshape(target_shape=(100,), input_shape=(100, 1)),\n",
    "    keras.layers.Dense(units=1, activation='relu'),\n",
    "    keras.layers.Dense(units=12, activation='relu'),\n",
    "    keras.layers.Dense(units=1, activation='softmax')\n",
    "])\n",
    "\n",
    " "
   ]
  },
  {
   "cell_type": "code",
   "execution_count": null,
   "metadata": {},
   "outputs": [],
   "source": []
  },
  {
   "cell_type": "code",
   "execution_count": null,
   "metadata": {},
   "outputs": [],
   "source": []
  },
  {
   "cell_type": "code",
   "execution_count": null,
   "metadata": {},
   "outputs": [],
   "source": []
  },
  {
   "cell_type": "code",
   "execution_count": null,
   "metadata": {},
   "outputs": [],
   "source": []
  },
  {
   "cell_type": "code",
   "execution_count": null,
   "metadata": {},
   "outputs": [],
   "source": []
  },
  {
   "cell_type": "code",
   "execution_count": null,
   "metadata": {},
   "outputs": [],
   "source": [
    "model.summary()"
   ]
  },
  {
   "cell_type": "code",
   "execution_count": null,
   "metadata": {},
   "outputs": [],
   "source": [
    "model.compile(optimizer='adam', \n",
    "              loss=tf.losses.CategoricalCrossentropy(from_logits=True),\n",
    "              metrics=['accuracy'])"
   ]
  },
  {
   "cell_type": "code",
   "execution_count": null,
   "metadata": {},
   "outputs": [],
   "source": [
    "train_dataset = (x, y)\n",
    "val_dataset = (x,y)\n",
    "\n",
    "\n",
    "history = model.fit(\n",
    "    x = x,\n",
    "    y = y,\n",
    "    epochs=10, \n",
    "    steps_per_epoch=10,\n",
    "    validation_data=val_dataset, \n",
    "    validation_steps=2\n",
    ")"
   ]
  },
  {
   "cell_type": "code",
   "execution_count": null,
   "metadata": {},
   "outputs": [],
   "source": [
    "x"
   ]
  },
  {
   "cell_type": "code",
   "execution_count": null,
   "metadata": {},
   "outputs": [],
   "source": []
  }
 ],
 "metadata": {
  "language_info": {
   "name": "python",
   "pygments_lexer": "ipython3"
  }
 },
 "nbformat": 4,
 "nbformat_minor": 4
}
