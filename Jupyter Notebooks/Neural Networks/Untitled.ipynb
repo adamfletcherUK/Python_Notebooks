{
 "cells": [
  {
   "cell_type": "code",
   "execution_count": null,
   "metadata": {},
   "outputs": [],
   "source": [
    "import numpy as np\n",
    "\n",
    "number_vector = np.array([])\n",
    "\n",
    "while True:\n",
    "    numbers = input('> ')\n",
    "    if numbers == 'done': break\n",
    "        \n",
    "    try:\n",
    "        number_vector = np.append(number_vector, int(numbers))\n",
    "        \n",
    "    except:\n",
    "        (\"Error: Szomeone was stupid\")\n",
    "\n",
    "average = np.sum(number_vector)/ len(number_vector)\n",
    "\n",
    "print(number_vector)\n",
    "print(average)"
   ]
  },
  {
   "cell_type": "code",
   "execution_count": null,
   "metadata": {},
   "outputs": [],
   "source": [
    "True, True, True == (True, True, True)"
   ]
  },
  {
   "cell_type": "code",
   "execution_count": null,
   "metadata": {},
   "outputs": [],
   "source": []
  }
 ],
 "metadata": {
  "language_info": {
   "name": "python",
   "pygments_lexer": "ipython3"
  }
 },
 "nbformat": 4,
 "nbformat_minor": 4
}
