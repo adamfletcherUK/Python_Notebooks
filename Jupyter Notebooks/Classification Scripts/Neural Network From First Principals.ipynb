{
 "cells": [
  {
   "cell_type": "markdown",
   "metadata": {},
   "source": [
    "# Making a Basic Neural Network From First Principals\n",
    "## Adam Fletcher\n",
    "\n",
    "The idea is that I will construct a very simple neural network from first principals with the goal of gaining an understanding of how a basic neural network functions.\n",
    "\n",
    "This will provide a great amount of insight into troubleshooting neural network problems as well as giving me insight into the limitations of these networks."
   ]
  },
  {
   "cell_type": "code",
   "execution_count": null,
   "metadata": {},
   "outputs": [],
   "source": [
    "import numpy as np"
   ]
  },
  {
   "cell_type": "markdown",
   "metadata": {},
   "source": [
    "## Define the class NeuralNetwork"
   ]
  },
  {
   "cell_type": "code",
   "execution_count": null,
   "metadata": {},
   "outputs": [],
   "source": [
    "# Activation function\n",
    "def sigmoid(t):\n",
    "    return 1/(1+np.exp(-t))\n",
    "\n",
    "# Derivative of sigmoid\n",
    "def sigmoid_derivative(p):\n",
    "    return p * (1 - p)"
   ]
  },
  {
   "cell_type": "code",
   "execution_count": null,
   "metadata": {},
   "outputs": [],
   "source": [
    "# Class definition\n",
    "class NeuralNetwork:\n",
    "    def __init__(self, x,y):\n",
    "        np.random.seed(1)\n",
    "        self.input         = x\n",
    "        self.weights1      = np.random.rand(self.input.shape[1],4)\n",
    "        self.weights2      = np.random.rand(4,1)\n",
    "        self.y             = y\n",
    "        self.output        = np.zeros(y.shape)\n",
    "        self.learning_rate = 1\n",
    "        self.bias1         = 0 #currently set to zero, add way to alter bias\n",
    "        self.bias2         = 0 #currently set to zero, add way to alter bias\n",
    "        \n",
    "    def feedforward(self):\n",
    "        self.layer1 = sigmoid(np.dot(self.input, self.weights1)  + self.bias1 ) #make bias do stuff\n",
    "        self.layer2 = sigmoid(np.dot(self.layer1, self.weights2) + self.bias2 ) #make bias do stuff\n",
    "        return self.layer2\n",
    "    \n",
    "    def loss_function(self):\n",
    "        self.loss = (np.mean(np.square(self.y - self.feedforward())))\n",
    "        return self.loss\n",
    "        \n",
    "    def backprop(self):\n",
    "        # calculates the derivative \n",
    "        d_weights2 = np.dot(\n",
    "            self.layer1.T, \n",
    "            2*(self.y - self.output) * sigmoid_derivative(self.output)\n",
    "            #2*(y-y^) is the partial derivative of the sum of squares error\n",
    "        )    \n",
    "        \n",
    "        d_weights1 = np.dot(\n",
    "            self.input.T, \n",
    "            np.dot(\n",
    "                2*(self.y - self.output) * sigmoid_derivative(self.output), \n",
    "                self.weights2.T)\n",
    "            * sigmoid_derivative(self.layer1)\n",
    "        )\n",
    "        \n",
    "        ##d_bias2 = np.dot()\n",
    "            \n",
    "        \n",
    "    \n",
    "        \n",
    "        self.weights1   += (d_weights1 * self.learning_rate)\n",
    "        self.weights2   += (d_weights2 * self.learning_rate)\n",
    "        #self.bias1      += (d_weights1 * self.learning_rate)\n",
    "        #self.bias2      += (d_weights2 * self.learning_rate)\n",
    "\n",
    "    def train(self, X, y):\n",
    "        self.output = self.feedforward()\n",
    "        self.backprop()\n",
    "    "
   ]
  },
  {
   "cell_type": "markdown",
   "metadata": {},
   "source": [
    "### Todo\n",
    "- calculate cost function\n",
    "- make sure backpropagation is working correctly\n",
    "- add a learning rate\n",
    "- add a bias"
   ]
  },
  {
   "cell_type": "code",
   "execution_count": null,
   "metadata": {},
   "outputs": [],
   "source": [
    "# Each row is a training example, each column is a feature  [X1, X2, X3]\n",
    "X=np.array(([0,0,1],[0,1,1],[1,0,1],[1,1,1]), dtype=float)\n",
    "y=np.array(([0],[1],[1],[0]), dtype=float)\n",
    "NN = NeuralNetwork(X,y)"
   ]
  },
  {
   "cell_type": "code",
   "execution_count": null,
   "metadata": {},
   "outputs": [],
   "source": [
    "NN.feedforward()"
   ]
  },
  {
   "cell_type": "code",
   "execution_count": null,
   "metadata": {},
   "outputs": [],
   "source": [
    "\n",
    "for i in range(1501): # trains the NN 1,000 times\n",
    "    if i % 100 ==0: \n",
    "        print (\"for iteration # \" + str(i) + \"\\n\")\n",
    "        print (\"Input : \\n\" + str(X))\n",
    "        print (\"Actual Output: \\n\" + str(y))\n",
    "        print (\"Predicted Output: \\n\" + str(NN.feedforward()))\n",
    "        print (\"Loss: \\n\" + str(NN.loss_function())) # mean sum squared loss\n",
    "        print (\"\\n\")\n",
    "  \n",
    "    NN.train(X, y)"
   ]
  },
  {
   "cell_type": "code",
   "execution_count": null,
   "metadata": {},
   "outputs": [],
   "source": []
  }
 ],
 "metadata": {
  "language_info": {
   "name": "python",
   "pygments_lexer": "ipython3"
  }
 },
 "nbformat": 4,
 "nbformat_minor": 2
}
