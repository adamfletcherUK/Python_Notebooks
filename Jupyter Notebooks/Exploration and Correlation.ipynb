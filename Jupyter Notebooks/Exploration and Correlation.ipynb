{
 "cells": [
  {
   "cell_type": "markdown",
   "metadata": {},
   "source": [
    "# Exploration and Correlation Notebook\n",
    "**Adam Fletcher** <br>\n",
    "08 APR 19 <br>\n",
    "Version 1 <br>\n",
    "<br>\n",
    "Useful Link for making plots in Matplotlib:\n",
    "> http://scipy-lectures.org/intro/matplotlib/matplotlib.html\n",
    "\n",
    "**TODO:** \n",
    "- Descriptive Statistics for Univariate Statistics (Mean, Median, Mode, Variance, SD, SE)\n",
    "- Display completeness of data (eg. showing missing values)\n",
    "- Calculate outliers\n",
    "- Hypothesis and AB tests\n",
    "\n",
    "### Table of Contents\n",
    "- [Data Import](#Data_Import)\n",
    "- [Data Exploration](#Data_Exploration)\n",
    "- [Univariate Analysis](#Univariate_Analysis)\n",
    "- [Multivariate Analysis](#Multivariate_Analysis)\n",
    "- [Correlation](#Correlation)\n",
    "\n",
    "### Prerequisites"
   ]
  },
  {
   "cell_type": "code",
   "execution_count": null,
   "metadata": {},
   "outputs": [],
   "source": [
    "!pip install pandas\n",
    "%matplotlib inline\n",
    "\n",
    "import random\n",
    "import datetime\n",
    "import pandas as pd\n",
    "import matplotlib.pyplot as plt\n",
    "import statistics\n",
    "import numpy as np\n",
    "import scipy\n",
    "from scipy import stats\n",
    "from IPython.display import display, HTML\n",
    "import seaborn"
   ]
  },
  {
   "cell_type": "markdown",
   "metadata": {},
   "source": [
    "<a id='Data_Import'></a>\n",
    "### Data Import\n",
    "Data should be imported with the __variable name = data__"
   ]
  },
  {
   "cell_type": "code",
   "execution_count": null,
   "metadata": {},
   "outputs": [],
   "source": [
    "# Data Import\n",
    "data = pd.read_csv('/Users/adam/Downloads/trip.csv')\n",
    "\n",
    "data = pd.read_excel('/Users/adam/Downloads/Concrete_Data.xls')\n",
    "data.columns = ['cement_component', 'furnace_slag', 'flay_ash', 'water_component', 'superplasticizer', 'coarse_aggregate', 'fine_aggregate', 'age', 'concrete_strength']\n",
    "\n",
    "\n",
    "# Print info about the imported data\n",
    "print(\"Length of Data Frame:\", len(data), \"rows and\", len(data.columns), \"columns\")\n",
    "data.head()"
   ]
  },
  {
   "cell_type": "markdown",
   "metadata": {},
   "source": [
    "<a id='Data_Exploration'></a>\n",
    "### Data Exploration\n",
    "\n",
    "Quickly look at the Distribution for **specific variables** <br> \n",
    "\n",
    "<a id='Univariate_Analysis'></a>\n",
    "#### Univariate Analysis\n",
    "\n",
    "TODO: Add Descriptive Statistics\n",
    "\n",
    "**Barcharts**"
   ]
  },
  {
   "cell_type": "code",
   "execution_count": null,
   "metadata": {},
   "outputs": [],
   "source": [
    "selected = ['from_station_id', 'to_station_id', 'usertype', 'gender', 'birthyear']\n",
    "plt.figure(figsize=(20,30))\n",
    "plot_count = 1\n",
    "\n",
    "for feature in selected:\n",
    "        plt.subplot(3, 3, plot_count) #Adjust grid to make room for more plots/ change shape of matrix\n",
    "        plt.subplots_adjust(left=None, bottom=None, right=None, top=None, wspace=None, hspace=0.5) #Adjust the spacing between plots\n",
    "        groupby_var = data.groupby(feature).size()\n",
    "        groupby_var.plot.bar(title = feature.replace('_',' ').title())\n",
    "        plt.ylabel('Number of Occurances')\n",
    "        plot_count+=1\n",
    "plt.show()"
   ]
  },
  {
   "cell_type": "markdown",
   "metadata": {},
   "source": [
    "<a id='Multivariate_Analysis'></a>\n",
    "#### Multivariate Plots"
   ]
  },
  {
   "cell_type": "markdown",
   "metadata": {},
   "source": [
    "**Scatterplots:** Against one comparable variable"
   ]
  },
  {
   "cell_type": "code",
   "execution_count": null,
   "metadata": {},
   "outputs": [],
   "source": [
    "plt.figure(figsize=(15,10.5))\n",
    "plot_count = 1\n",
    "\n",
    "for feature in list(data.columns):\n",
    "        data_ = data[data[feature] != 0] #Remove 0's from Data\n",
    "        plt.subplot(3, 3, plot_count)\n",
    "        seaborn.regplot(data_[feature], data_['concrete_strength']) #regplot adds a linear regression line\n",
    "        plt.xlabel(feature.replace('_',' ').title())\n",
    "        plt.ylabel('Concrete strength')\n",
    "        plot_count+=1\n",
    "plt.show()"
   ]
  },
  {
   "cell_type": "markdown",
   "metadata": {},
   "source": [
    "**Pair Plots:** All variables plotted against one another"
   ]
  },
  {
   "cell_type": "code",
   "execution_count": null,
   "metadata": {},
   "outputs": [],
   "source": [
    "data = data.dropna()\n",
    "seaborn.pairplot(data, kind='reg')\n",
    "plt.show()"
   ]
  },
  {
   "cell_type": "markdown",
   "metadata": {},
   "source": [
    "<a id='Correlation'></a>\n",
    "### Correlation\n",
    "\n",
    "3 Major Tests for Correlation:\n",
    "\n",
    "- Pearsons Correlation - Most Common, Normal Distibuted **Quantitative** variables\n",
    ">https://statistics.laerd.com/statistical-guides/pearson-correlation-coefficient-statistical-guide.php\n",
    "- Kendall Rank Correlation - (Non-parametric, **non-normal distribution**, **Quantitative** variables\n",
    ">https://statistics.laerd.com/spss-tutorials/kendalls-tau-b-using-spss-statistics.php\n",
    "- Spearman Rank Correlation - Non-parametrics, **non-normal distribution**, **Ordinal/Categorical** variables\n",
    ">https://statistics.laerd.com/statistical-guides/spearmans-rank-order-correlation-statistical-guide.php"
   ]
  },
  {
   "cell_type": "markdown",
   "metadata": {},
   "source": [
    "**Correlation Tables**\n",
    "\n",
    "data.corr() --> add in 'pearson', 'kendal', 'spearman'"
   ]
  },
  {
   "cell_type": "code",
   "execution_count": null,
   "metadata": {},
   "outputs": [],
   "source": [
    "data.corr('pearson')"
   ]
  },
  {
   "cell_type": "markdown",
   "metadata": {},
   "source": [
    "**Correlation over specific Category** <br>\n",
    "\n",
    "In this example 'age' is a categorical variable and so exploring how multivariate correlation changes with age is a good idea "
   ]
  },
  {
   "cell_type": "code",
   "execution_count": null,
   "metadata": {},
   "outputs": [],
   "source": [
    "for value in data['age'].unique():\n",
    "    print(\"\")\n",
    "    print (\"Age: \",  value)\n",
    "    data_map = data['age'] == value\n",
    "    data_ = data[data_map]\n",
    "    display(data_.corr())\n",
    "    \n",
    "## How do I make this occur on just one line??"
   ]
  },
  {
   "cell_type": "code",
   "execution_count": null,
   "metadata": {},
   "outputs": [],
   "source": []
  },
  {
   "cell_type": "code",
   "execution_count": null,
   "metadata": {},
   "outputs": [],
   "source": []
  }
 ],
 "metadata": {
  "language_info": {
   "name": "python",
   "pygments_lexer": "ipython3"
  }
 },
 "nbformat": 4,
 "nbformat_minor": 2
}
