{
 "cells": [
  {
   "cell_type": "markdown",
   "metadata": {},
   "source": [
    "# EE Mapping Opportunities in the UK\n",
    "### Adam Fletcher\n",
    "\n",
    "\n",
    "## Cleanup of Data Dump from Companies House\n",
    "\n",
    "A data dump from companies house can be found at:\n",
    "\n",
    "http://download.companieshouse.gov.uk/en_output.html\n",
    "\n",
    "A pdf explaining the columns of the data:\n",
    "\n",
    "http://resources.companieshouse.gov.uk/toolsToHelp/pdf/freeDataProductDataset.pdf"
   ]
  },
  {
   "cell_type": "code",
   "execution_count": 7,
   "metadata": {},
   "outputs": [
    {
     "name": "stdout",
     "output_type": "stream",
     "text": [
      "/Users/adam/Downloads\n"
     ]
    },
    {
     "name": "stderr",
     "output_type": "stream",
     "text": [
      "/Users/adam/anaconda3/lib/python3.7/site-packages/IPython/core/interactiveshell.py:3020: DtypeWarning: Columns (41,42,43,44,45,46,47,48,49,50,51,52) have mixed types. Specify dtype option on import or set low_memory=False.\n",
      "  interactivity=interactivity, compiler=compiler, result=result)\n"
     ]
    }
   ],
   "source": [
    "import numpy as np\n",
    "import pandas as pd\n",
    "\n",
    "%cd ~/Downloads\n",
    "CH_data_dump = pd.read_csv(\"BasicCompanyDataAsOneFile-2019-11-01.csv\")"
   ]
  },
  {
   "cell_type": "code",
   "execution_count": 46,
   "metadata": {},
   "outputs": [],
   "source": [
    "CH_company_info = CH_data_dump[['CompanyName',\n",
    "                                ' CompanyNumber',\n",
    "                                'RegAddress.PostCode',\n",
    "                                'IncorporationDate',\n",
    "                                'Accounts.AccountCategory',              \n",
    "                                'CompanyCategory',\n",
    "                                'CompanyStatus',\n",
    "                                'SICCode.SicText_1',\n",
    "                                'SICCode.SicText_2',\n",
    "                                'SICCode.SicText_3',\n",
    "                                'SICCode.SicText_4',]]"
   ]
  },
  {
   "cell_type": "markdown",
   "metadata": {},
   "source": [
    "## API to Global Data Info\n",
    "\n",
    "**Todo:**\n",
    "\n",
    "- Get an API key (and figure out its limits etc..)\n",
    "- Loop over all the ACTIVE companies to get their financial data\n",
    "    - OR split this into subsets and run it to avoid reaching the API limit\n",
    "    - Need to figure out if a company doesn't have any info on the webtool how to handle errors\n",
    "    \n",
    "- Later: Speak to david cox and figure out his scoring algorithmn\n",
    "- Later: Look at ML potential\n"
   ]
  },
  {
   "cell_type": "code",
   "execution_count": 50,
   "metadata": {
    "scrolled": false
   },
   "outputs": [
    {
     "data": {
      "text/html": [
       "<div>\n",
       "<style scoped>\n",
       "    .dataframe tbody tr th:only-of-type {\n",
       "        vertical-align: middle;\n",
       "    }\n",
       "\n",
       "    .dataframe tbody tr th {\n",
       "        vertical-align: top;\n",
       "    }\n",
       "\n",
       "    .dataframe thead th {\n",
       "        text-align: right;\n",
       "    }\n",
       "</style>\n",
       "<table border=\"1\" class=\"dataframe\">\n",
       "  <thead>\n",
       "    <tr style=\"text-align: right;\">\n",
       "      <th></th>\n",
       "      <th>CompanyName</th>\n",
       "      <th>CompanyNumber</th>\n",
       "      <th>RegAddress.PostCode</th>\n",
       "      <th>IncorporationDate</th>\n",
       "      <th>Accounts.AccountCategory</th>\n",
       "      <th>CompanyCategory</th>\n",
       "      <th>CompanyStatus</th>\n",
       "      <th>SICCode.SicText_1</th>\n",
       "      <th>SICCode.SicText_2</th>\n",
       "      <th>SICCode.SicText_3</th>\n",
       "      <th>SICCode.SicText_4</th>\n",
       "    </tr>\n",
       "  </thead>\n",
       "  <tbody>\n",
       "    <tr>\n",
       "      <th>0</th>\n",
       "      <td>! LTD</td>\n",
       "      <td>08209948</td>\n",
       "      <td>LS10 2RU</td>\n",
       "      <td>11/09/2012</td>\n",
       "      <td>DORMANT</td>\n",
       "      <td>Private Limited Company</td>\n",
       "      <td>Active</td>\n",
       "      <td>99999 - Dormant Company</td>\n",
       "      <td>NaN</td>\n",
       "      <td>NaN</td>\n",
       "      <td>NaN</td>\n",
       "    </tr>\n",
       "    <tr>\n",
       "      <th>1</th>\n",
       "      <td>! LTD</td>\n",
       "      <td>12289315</td>\n",
       "      <td>WC1N 3AX</td>\n",
       "      <td>30/10/2019</td>\n",
       "      <td>NO ACCOUNTS FILED</td>\n",
       "      <td>Private Limited Company</td>\n",
       "      <td>Active</td>\n",
       "      <td>64209 - Activities of other holding companies ...</td>\n",
       "      <td>NaN</td>\n",
       "      <td>NaN</td>\n",
       "      <td>NaN</td>\n",
       "    </tr>\n",
       "    <tr>\n",
       "      <th>2</th>\n",
       "      <td>!? LTD</td>\n",
       "      <td>11399177</td>\n",
       "      <td>SK6 3DY</td>\n",
       "      <td>05/06/2018</td>\n",
       "      <td>NO ACCOUNTS FILED</td>\n",
       "      <td>Private Limited Company</td>\n",
       "      <td>Active</td>\n",
       "      <td>47710 - Retail sale of clothing in specialised...</td>\n",
       "      <td>NaN</td>\n",
       "      <td>NaN</td>\n",
       "      <td>NaN</td>\n",
       "    </tr>\n",
       "    <tr>\n",
       "      <th>3</th>\n",
       "      <td>!BIG IMPACT GRAPHICS LIMITED</td>\n",
       "      <td>11743365</td>\n",
       "      <td>EC1V 9LT</td>\n",
       "      <td>28/12/2018</td>\n",
       "      <td>NO ACCOUNTS FILED</td>\n",
       "      <td>Private Limited Company</td>\n",
       "      <td>Active</td>\n",
       "      <td>18129 - Printing n.e.c.</td>\n",
       "      <td>59112 - Video production activities</td>\n",
       "      <td>63120 - Web portals</td>\n",
       "      <td>74201 - Portrait photographic activities</td>\n",
       "    </tr>\n",
       "    <tr>\n",
       "      <th>4</th>\n",
       "      <td>!NKED LTD</td>\n",
       "      <td>12234705</td>\n",
       "      <td>SW9 8QS</td>\n",
       "      <td>30/09/2019</td>\n",
       "      <td>NO ACCOUNTS FILED</td>\n",
       "      <td>Private Limited Company</td>\n",
       "      <td>Active</td>\n",
       "      <td>47710 - Retail sale of clothing in specialised...</td>\n",
       "      <td>NaN</td>\n",
       "      <td>NaN</td>\n",
       "      <td>NaN</td>\n",
       "    </tr>\n",
       "  </tbody>\n",
       "</table>\n",
       "</div>"
      ],
      "text/plain": [
       "                    CompanyName  CompanyNumber RegAddress.PostCode  \\\n",
       "0                         ! LTD       08209948            LS10 2RU   \n",
       "1                         ! LTD       12289315            WC1N 3AX   \n",
       "2                        !? LTD       11399177             SK6 3DY   \n",
       "3  !BIG IMPACT GRAPHICS LIMITED       11743365            EC1V 9LT   \n",
       "4                     !NKED LTD       12234705             SW9 8QS   \n",
       "\n",
       "  IncorporationDate Accounts.AccountCategory          CompanyCategory  \\\n",
       "0        11/09/2012                  DORMANT  Private Limited Company   \n",
       "1        30/10/2019        NO ACCOUNTS FILED  Private Limited Company   \n",
       "2        05/06/2018        NO ACCOUNTS FILED  Private Limited Company   \n",
       "3        28/12/2018        NO ACCOUNTS FILED  Private Limited Company   \n",
       "4        30/09/2019        NO ACCOUNTS FILED  Private Limited Company   \n",
       "\n",
       "  CompanyStatus                                  SICCode.SicText_1  \\\n",
       "0        Active                            99999 - Dormant Company   \n",
       "1        Active  64209 - Activities of other holding companies ...   \n",
       "2        Active  47710 - Retail sale of clothing in specialised...   \n",
       "3        Active                            18129 - Printing n.e.c.   \n",
       "4        Active  47710 - Retail sale of clothing in specialised...   \n",
       "\n",
       "                     SICCode.SicText_2    SICCode.SicText_3  \\\n",
       "0                                  NaN                  NaN   \n",
       "1                                  NaN                  NaN   \n",
       "2                                  NaN                  NaN   \n",
       "3  59112 - Video production activities  63120 - Web portals   \n",
       "4                                  NaN                  NaN   \n",
       "\n",
       "                          SICCode.SicText_4  \n",
       "0                                       NaN  \n",
       "1                                       NaN  \n",
       "2                                       NaN  \n",
       "3  74201 - Portrait photographic activities  \n",
       "4                                       NaN  "
      ]
     },
     "execution_count": 50,
     "metadata": {},
     "output_type": "execute_result"
    }
   ],
   "source": [
    "CH_company_info.head()"
   ]
  },
  {
   "cell_type": "code",
   "execution_count": null,
   "metadata": {},
   "outputs": [],
   "source": []
  }
 ],
 "metadata": {
  "kernelspec": {
   "display_name": "Python 3",
   "language": "python",
   "name": "python3"
  },
  "language_info": {
   "codemirror_mode": {
    "name": "ipython",
    "version": 3
   },
   "file_extension": ".py",
   "mimetype": "text/x-python",
   "name": "python",
   "nbconvert_exporter": "python",
   "pygments_lexer": "ipython3",
   "version": "3.7.1"
  }
 },
 "nbformat": 4,
 "nbformat_minor": 2
}
